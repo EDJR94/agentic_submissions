{
 "cells": [
  {
   "cell_type": "markdown",
   "id": "3fae7596",
   "metadata": {},
   "source": [
    "1. you have to create one supervisor node.\n",
    "2. create one router function\n",
    "3. create three more node\n",
    "3.1 llm call (llm node)\n",
    "3.2 RAG (rag node)\n",
    "3.3 web crawler(fetch the info in realtime from internet)\n",
    "4. created one more node after this for validation for generated output --> explore the validation part how to do that\n",
    "5. if validation going to be failed in that case again go to supervioser node and then supervisor node will again decide what needs to be call next\n",
    "6. once the validation will pass then only generate the final output\n",
    "\n",
    "submission deadline till 9pm friday\n",
    "\n",
    "submission instruction:\n",
    "create your github repo and keep all the assisgnments over there(in that github repo)\n",
    "i will share one googleform in group after completing your assignment you can share the github link through that google form."
   ]
  },
  {
   "cell_type": "code",
   "execution_count": null,
   "id": "d85b15aa",
   "metadata": {},
   "outputs": [],
   "source": [
    "import operator\n",
    "from typing import List\n",
    "from pydantic import BaseModel , Field\n",
    "from langchain.prompts import PromptTemplate\n",
    "from typing import TypedDict, Annotated, Sequence\n",
    "from langchain_core.messages import BaseMessage\n",
    "from langchain_core.output_parsers import StrOutputParser\n",
    "from langchain_core.prompts import ChatPromptTemplate, PromptTemplate\n",
    "from langchain_core.runnables import RunnablePassthrough\n",
    "from langchain_openai import ChatOpenAI\n",
    "from langchain_core.messages import HumanMessage, AIMessage\n",
    "from langgraph.graph import StateGraph,END\n",
    "from dotenv import load_dotenv\n",
    "from langchain.output_parsers import PydanticOutputParser\n",
    "import os\n",
    "from langchain_community.document_loaders import TextLoader, DirectoryLoader\n",
    "from langchain_community.vectorstores import Chroma\n",
    "from langchain.text_splitter import RecursiveCharacterTextSplitter\n",
    "from langchain_openai import OpenAIEmbeddings\n",
    "from langchain_tavily import TavilySearch\n",
    "\n",
    "load_dotenv()\n",
    "\n",
    "OPENAI_API_KEY = os.getenv(\"OPENAI_API_KEY\")\n",
    "TAVILY_API_KEY = os.getenv(\"TAVILY_API_KEY\")\n",
    "llm = ChatOpenAI(\n",
    "    model=\"gpt-4.1-mini\",\n",
    "    api_key=OPENAI_API_KEY\n",
    ")"
   ]
  },
  {
   "cell_type": "markdown",
   "id": "1cb34c3e",
   "metadata": {},
   "source": [
    "# Create Vector Retriever"
   ]
  },
  {
   "cell_type": "code",
   "execution_count": 2,
   "id": "593bdad0",
   "metadata": {},
   "outputs": [],
   "source": [
    "loader=DirectoryLoader(\"data\",glob=\"./*.txt\",loader_cls=TextLoader)\n",
    "docs = loader.load()\n",
    "splitter = RecursiveCharacterTextSplitter(chunk_size=200, chunk_overlap=30)\n",
    "docs_splitted = splitter.split_documents(documents=docs)\n",
    "embeddings = OpenAIEmbeddings(model=\"text-embedding-3-small\")\n",
    "db = Chroma.from_documents(docs_splitted, embeddings)"
   ]
  },
  {
   "cell_type": "code",
   "execution_count": 3,
   "id": "190c50dd",
   "metadata": {},
   "outputs": [],
   "source": [
    "retriever = db.as_retriever(search_kwargs={\"k\": 3})"
   ]
  },
  {
   "cell_type": "markdown",
   "id": "0ab3d1cd",
   "metadata": {},
   "source": [
    "# Agent State"
   ]
  },
  {
   "cell_type": "code",
   "execution_count": 44,
   "id": "246fe689",
   "metadata": {},
   "outputs": [],
   "source": [
    "class State(TypedDict):\n",
    "    question: str\n",
    "    usa: bool\n",
    "    chat: bool\n",
    "    web: bool\n",
    "    response: str\n",
    "    is_validated: bool\n",
    "    final_response: str\n",
    "    feedback: str\n",
    "    reason: str\n"
   ]
  },
  {
   "cell_type": "markdown",
   "id": "93619adc",
   "metadata": {},
   "source": [
    "# Supervisor(Router)"
   ]
  },
  {
   "cell_type": "code",
   "execution_count": 45,
   "id": "3a0eed8c",
   "metadata": {},
   "outputs": [],
   "source": [
    "class RouterOutput(BaseModel):\n",
    "    usa: bool=Field(description=\"If the question is related to USA Economy\")\n",
    "    chat: bool=Field(description=\"If the question is a normal chat conversation\")\n",
    "    web: bool=Field(description=\"If the question is neither USA economy or chat conversation\")\n",
    "\n",
    "router_parser = PydanticOutputParser(pydantic_object=RouterOutput)"
   ]
  },
  {
   "cell_type": "code",
   "execution_count": 46,
   "id": "ceeab6f4",
   "metadata": {},
   "outputs": [],
   "source": [
    "def router_node(state:State):\n",
    "\n",
    "    question = state[\"question\"]\n",
    "\n",
    "    if state.get(\"feedback\"):\n",
    "        template = \"\"\"\n",
    "        You are a orchestrator. You will receive a question and your job is to route this question into 3 agents:\n",
    "        1) Chat Agent - Route to this agent when the question is a normal chat conversation\n",
    "        2) RAG Agent - Route to this agent when the question is related to United States economy\n",
    "        3) Web Search Agent - Route to this agent when the question is not related to a chat conversation or USA Economy.\n",
    "\n",
    "        Question: \\n\n",
    "        {question} \\n\\n\n",
    "\n",
    "        The final answer will be validated by another agent. If the answer was rejected, you will receive a feedback to improve it.\n",
    "\n",
    "        Feedback: \\n\n",
    "        {feedback} \n",
    "        \n",
    "        {format_instructions}\n",
    "        \"\"\"\n",
    "\n",
    "        prompt = PromptTemplate(\n",
    "            template=template,\n",
    "            input_variables=[\"question\",\"feedback\"],\n",
    "            partial_variables={\n",
    "                \"format_instructions\": router_parser.get_format_instructions(),\n",
    "                }\n",
    "        )\n",
    "    else:\n",
    "        template = \"\"\"\n",
    "        You are a orchestrator. You will receive a question and your job is to route this question into 3 agents:\n",
    "        1) Chat Agent - Route to this agent when the question is a normal chat conversation\n",
    "        2) RAG Agent - Route to this agent when the question is related to United States economy\n",
    "        3) Web Search Agent - Route to this agent when the question is not related to a chat conversation or USA Economy.\n",
    "\n",
    "        Question: \\n\n",
    "        {question} \\n\\n \n",
    "        \n",
    "        {format_instructions}\n",
    "        \"\"\"\n",
    "\n",
    "        prompt = PromptTemplate(\n",
    "            template=template,\n",
    "            input_variables=[\"question\"],\n",
    "            partial_variables={\n",
    "                \"format_instructions\": router_parser.get_format_instructions(),\n",
    "                }\n",
    "        )\n",
    "\n",
    "    chain = prompt | llm | router_parser\n",
    "\n",
    "    response = chain.invoke({\"question\":question})\n",
    "\n",
    "    print(f\"Router Decision: RAG: {response.usa} Web: {response.web} Chat: {response.chat}\")\n",
    "\n",
    "    return {\"usa\": response.usa,\n",
    "            \"web\": response.web,\n",
    "            \"chat\": response.chat\n",
    "            }"
   ]
  },
  {
   "cell_type": "code",
   "execution_count": 47,
   "id": "43325a5e",
   "metadata": {},
   "outputs": [],
   "source": [
    "def router_condition(state:State):\n",
    "    if state['usa'] == True:\n",
    "        return \"usa\"\n",
    "    elif state['web'] == True:\n",
    "        return \"web\"\n",
    "    elif state['chat'] == True:\n",
    "        return \"chat\"\n",
    "    else:\n",
    "        return \"chat\""
   ]
  },
  {
   "cell_type": "markdown",
   "id": "94b1ee03",
   "metadata": {},
   "source": [
    "# Rag Node"
   ]
  },
  {
   "cell_type": "code",
   "execution_count": 48,
   "id": "94471b59",
   "metadata": {},
   "outputs": [],
   "source": [
    "def format_docs(docs):\n",
    "    return \"/n/n\".join(doc.page_content for doc in docs)"
   ]
  },
  {
   "cell_type": "code",
   "execution_count": 49,
   "id": "db24ddbb",
   "metadata": {},
   "outputs": [],
   "source": [
    "def rag_node(state:State):\n",
    "    print(\"\\n----- STARTING RAG NODE -----\")\n",
    "    question = state[\"question\"]\n",
    "\n",
    "    template = \"\"\"\n",
    "    You are an assistant for question-answering tasks. Use the following pieces of retrieved context to answer the question. \n",
    "    If you don't know the answer, just say that you don't know. Use three sentences maximum and keep the answer concise.\n",
    "    \n",
    "    \\nQuestion: {question} \\nContext: {context} \\nAnswer:\n",
    "    \"\"\"\n",
    "\n",
    "    prompt = PromptTemplate(\n",
    "        template=template,\n",
    "        input_variables=[\"question\",\"context\"]\n",
    "    )\n",
    "\n",
    "    rag_chain = (\n",
    "        {\"context\": retriever | format_docs, \"question\": RunnablePassthrough()}\n",
    "        | prompt\n",
    "        | llm\n",
    "        | StrOutputParser()\n",
    "    ) \n",
    "\n",
    "    response = rag_chain.invoke(question)\n",
    "\n",
    "    return {\"response\":response}\n",
    "\n",
    "    "
   ]
  },
  {
   "cell_type": "markdown",
   "id": "e44de08c",
   "metadata": {},
   "source": [
    "# Chat(not related node)"
   ]
  },
  {
   "cell_type": "code",
   "execution_count": 50,
   "id": "e1ee1fa9",
   "metadata": {},
   "outputs": [],
   "source": [
    "def chat_node(state:State):\n",
    "    print(\"\\n----- STARTING Chat NODE -----\")\n",
    "\n",
    "    question = state['question']\n",
    "\n",
    "    template = \"\"\"\n",
    "    You are a helpful assistant. Answer the user question in a helpful way.\n",
    "\n",
    "    Question: /n\n",
    "    {question}\n",
    "    \"\"\"\n",
    "\n",
    "    prompt = PromptTemplate(\n",
    "        template=template,\n",
    "        input_variables=[\"question\"]\n",
    "    )\n",
    "\n",
    "    chain = prompt | llm | StrOutputParser()\n",
    "\n",
    "    response = chain.invoke({\"question\":question})\n",
    "\n",
    "    return {\"response\":response}"
   ]
  },
  {
   "cell_type": "markdown",
   "id": "d54af545",
   "metadata": {},
   "source": [
    "# Web Search Node"
   ]
  },
  {
   "cell_type": "code",
   "execution_count": 51,
   "id": "1660d8cc",
   "metadata": {},
   "outputs": [],
   "source": [
    "def web_search_node(state:State):\n",
    "    print(\"\\n----- STARTING WEB NODE -----\")\n",
    "\n",
    "    question = state['question']\n",
    "\n",
    "    tool = TavilySearch(\n",
    "    max_results=3,\n",
    "    topic=\"general\",\n",
    ")\n",
    "    web_results = tool.invoke(question)\n",
    "    print(f\"WEB Results: {web_results}\")\n",
    "\n",
    "    template = \"\"\"\n",
    "    You are a helpful assistant. Use the Web Search results and the user's question to answer accordingly.\n",
    "\n",
    "    \\nQuestion:\n",
    "    {question}\n",
    "\n",
    "    \\nWeb Search Results:\n",
    "    {web_results}\n",
    "    \"\"\"   \n",
    "\n",
    "    prompt = PromptTemplate(\n",
    "        template=template,\n",
    "        input_variables=[\"question\", \"web_results\"]\n",
    "    )\n",
    "\n",
    "    chain = prompt | llm | StrOutputParser()\n",
    "\n",
    "    response = chain.invoke({\"question\":question, \"web_results\":web_results})\n",
    "\n",
    "    return {\"response\":response}"
   ]
  },
  {
   "cell_type": "markdown",
   "id": "af3a478f",
   "metadata": {},
   "source": [
    "# Validation Node"
   ]
  },
  {
   "cell_type": "code",
   "execution_count": 52,
   "id": "9a994c48",
   "metadata": {},
   "outputs": [],
   "source": [
    "class ValidationParser(BaseModel):\n",
    "    is_validated: bool=Field(description=\"If the answer is validated based on the user's question.\")\n",
    "    feedback: str=Field(description=\"The reason why the answer was not validated.\")\n",
    "\n",
    "validation_parser = PydanticOutputParser(pydantic_object=ValidationParser)"
   ]
  },
  {
   "cell_type": "code",
   "execution_count": 58,
   "id": "bd664d55",
   "metadata": {},
   "outputs": [],
   "source": [
    "def validation_node(state:State):\n",
    "    print(\"\\n----- STARTING VALIDATION NODE -----\")\n",
    "\n",
    "    question = state['question']\n",
    "\n",
    "    response = state['response']\n",
    "\n",
    "    template = \"\"\"\n",
    "    You are a validation agent. You will receive a question from the user and an answer given by another agent.\n",
    "    Your job is to validate if the answer is related to the question. You don't need to validate if the answer is correct or not.\n",
    "    If the answer is related to the question, return a true validation. If not, return a false validation and a feedback on how to improve\n",
    "\n",
    "    \\nExamples:\n",
    "    question: Which's the biggest country on planet?\n",
    "    answer: Unicorn\n",
    "    is_validated = False\n",
    "\n",
    "    question: How much was the Germany GDP in 2024?\n",
    "    answer: 30 Trillion\n",
    "    is_validated = True\n",
    "\n",
    "\n",
    "    \\nQuestion:\n",
    "    {question}\n",
    "\n",
    "    \\nAnswer: \n",
    "    {response}\n",
    "\n",
    "    \\n{format_instructions}\n",
    "    \"\"\"\n",
    "\n",
    "    prompt = PromptTemplate(\n",
    "        template=template,\n",
    "        input_variables=[\"question\", \"response\"],\n",
    "        partial_variables={\"format_instructions\": validation_parser.get_format_instructions()}\n",
    "    )\n",
    "\n",
    "    chain = prompt | llm | validation_parser\n",
    "\n",
    "    print(f\"Question: {question} \\n Answer: {response}\")\n",
    "    response = chain.invoke({\"question\":question, \"response\":response})\n",
    "    print(f\"Validation Results: Is Validated: {response.is_validated} Feedback: {response.feedback}\")\n",
    "    \n",
    "\n",
    "    return {\"is_validated\":response.is_validated, \"feeback\":response.feedback}"
   ]
  },
  {
   "cell_type": "code",
   "execution_count": 59,
   "id": "8e38806a",
   "metadata": {},
   "outputs": [],
   "source": [
    "def validation_condition(state:State):\n",
    "    if state['is_validated'] == True:\n",
    "        return \"is_validated\"\n",
    "    else:\n",
    "        return \"not_validated\""
   ]
  },
  {
   "cell_type": "markdown",
   "id": "80e491d0",
   "metadata": {},
   "source": [
    "# Final Answer"
   ]
  },
  {
   "cell_type": "code",
   "execution_count": 60,
   "id": "b2799750",
   "metadata": {},
   "outputs": [],
   "source": [
    "def output_final_answer(state:State):\n",
    "    print(\"\\n----- STARTING OUTPUT FINAL ANSWER NODE -----\")\n",
    "\n",
    "    if state['is_validated'] == True:\n",
    "        final_answer = state['response']\n",
    "        return {\"final_answer\":final_answer}"
   ]
  },
  {
   "cell_type": "markdown",
   "id": "2f5431a0",
   "metadata": {},
   "source": [
    "# Workflow"
   ]
  },
  {
   "cell_type": "code",
   "execution_count": 61,
   "id": "18b6bad3",
   "metadata": {},
   "outputs": [],
   "source": [
    "workflow = StateGraph(State)\n",
    "workflow.add_node(\"router\", router_node)\n",
    "workflow.add_node(\"rag_node\",rag_node)\n",
    "workflow.add_node(\"chat_node\",chat_node)\n",
    "workflow.add_node(\"web_search_node\",web_search_node)\n",
    "workflow.add_node(\"validation_node\",validation_node)\n",
    "workflow.add_node(\"final_answer\", output_final_answer)\n",
    "\n",
    "workflow.add_edge(\"rag_node\", \"validation_node\")\n",
    "workflow.add_edge(\"web_search_node\", \"validation_node\")\n",
    "workflow.add_edge(\"chat_node\", \"validation_node\")\n",
    "\n",
    "\n",
    "workflow.set_entry_point(\"router\")\n",
    "workflow.set_finish_point(\"final_answer\")\n",
    "\n",
    "workflow.add_conditional_edges(\n",
    "    \"router\",\n",
    "    router_condition,\n",
    "    {\n",
    "        \"usa\": \"rag_node\",\n",
    "        \"chat\": \"chat_node\",\n",
    "        \"web\": \"web_search_node\"\n",
    "    }\n",
    ")\n",
    "\n",
    "workflow.add_conditional_edges(\n",
    "    \"validation_node\",\n",
    "    validation_condition,\n",
    "    {\n",
    "        \"is_validated\":\"final_answer\",\n",
    "        \"not_validated\":\"router\"\n",
    "    }\n",
    ")\n",
    "\n",
    "graph = workflow.compile()"
   ]
  },
  {
   "cell_type": "code",
   "execution_count": 24,
   "id": "863955ca",
   "metadata": {},
   "outputs": [
    {
     "name": "stdout",
     "output_type": "stream",
     "text": [
      "Router Decision: RAG: False Web: False Chat: True\n",
      "\n",
      "----- STARTING Chat NODE -----\n",
      "\n",
      "----- STARTING VALIDATION NODE -----\n",
      "Validation Results: Is Validated: True Feedback: \n",
      "\n",
      "----- STARTING OUTPUT FINAL ANSWER NODE -----\n"
     ]
    },
    {
     "data": {
      "text/plain": [
       "{'question': \"What's the biggest animal on earth?\",\n",
       " 'usa': False,\n",
       " 'chat': True,\n",
       " 'web': False,\n",
       " 'response': 'The biggest animal on Earth is the blue whale. Blue whales can reach lengths of up to 98 feet (30 meters) and weigh as much as 200 tons or more. They are the largest animals known to have ever existed on our planet.',\n",
       " 'is_validated': True}"
      ]
     },
     "execution_count": 24,
     "metadata": {},
     "output_type": "execute_result"
    }
   ],
   "source": [
    "graph.invoke({\"question\":\"What's the biggest animal on earth?\"})"
   ]
  },
  {
   "cell_type": "code",
   "execution_count": 18,
   "id": "63e817f5",
   "metadata": {},
   "outputs": [
    {
     "name": "stdout",
     "output_type": "stream",
     "text": [
      "Router Decision: RAG: True Web: False Chat: False\n",
      "\n",
      "----- STARTING RAG NODE -----\n",
      "\n",
      "----- STARTING VALIDATION NODE -----\n",
      "Validation Results: Is Validated: True Feedback: \n",
      "\n",
      "----- STARTING OUTPUT FINAL ANSWER NODE -----\n"
     ]
    },
    {
     "data": {
      "text/plain": [
       "{'question': 'How much is the GDP of the USA?',\n",
       " 'usa': True,\n",
       " 'chat': False,\n",
       " 'web': False,\n",
       " 'response': 'The GDP of the USA is estimated to be around $28 trillion USD as of 2024. It is the largest in the world by nominal GDP.',\n",
       " 'is_validated': True}"
      ]
     },
     "execution_count": 18,
     "metadata": {},
     "output_type": "execute_result"
    }
   ],
   "source": [
    "graph.invoke({\"question\":\"How much is the GDP of the USA?\"})\n"
   ]
  },
  {
   "cell_type": "code",
   "execution_count": 40,
   "id": "c842cd7c",
   "metadata": {},
   "outputs": [
    {
     "name": "stdout",
     "output_type": "stream",
     "text": [
      "Router Decision: RAG: False Web: True Chat: False\n",
      "\n",
      "----- STARTING WEB NODE -----\n",
      "WEB Results: {'query': \"What's the price of bitcoin today(10th june 2025)\", 'follow_up_questions': None, 'answer': None, 'images': [], 'results': [{'title': 'Bitcoin Price Today, June 10, 2025: BTC Price Dips to USD ... - LatestLY', 'url': 'https://www.latestly.com/socially/technology/bitcoin-price-today-june-10-2025-btc-price-dips-to-usd-109227-63-after-surpassing-usd-110000-mark-6917982.html', 'content': 'Bitcoin price dipped to USD 109,227.63 after nearing its all-time high earlier that day on June 10, 2025. Despite the fluctuation in BTC price, analysts remain optimistic, projecting a potential recovery to USD 1,20,000 by the end of 2025. 📲 Bitcoin Price Today, June 10, 2025: BTC Price Dips to USD 109,227.63 After Surpassing USD 1,10,000 Mark.', 'score': 0.94632465, 'raw_content': None}, {'title': 'Crypto Price Today (June 10): Ethereum Briefly Touches $2,800; Bitcoin ...', 'url': 'https://www.cryptotimes.io/2025/06/11/crypto-price-today-june-10-ethereum-briefly-touches-2800-bitcoin-solana-xrp-shows-resilience/', 'content': 'Continuing its bullish rally, Ethereum has briefly touched $2,800 price mark today while Bitcoin, Solana and XRP showing resilience.', 'score': 0.77179235, 'raw_content': None}, {'title': 'Bitcoin Price Today 10/06: Eyes 50% Rally (Chart)', 'url': 'https://www.dailyforex.com/forex-technical-analysis/2025/06/bitcoin-price-today-10-june-2025/229457', 'content': \"Data from market intelligence firm Santiment reveals a significant surge in Bitcoin's network activity over the last week, with 556,830 new wallets created on May 29, 2025, the highest since December 2023, and 241,360 coins circulated on June 2, 2025, the most since December 2024.\", 'score': 0.68344116, 'raw_content': None}], 'response_time': 1.97}\n",
      "\n",
      "----- STARTING VALIDATION NODE -----\n",
      "Question: What's the price of bitcoin today(10th june 2025) \n",
      " Answer: As of June 10, 2025, the price of Bitcoin is approximately USD 109,227.63.\n",
      "Validation Results: Is Validated: True Feedback: \n",
      "\n",
      "----- STARTING OUTPUT FINAL ANSWER NODE -----\n"
     ]
    },
    {
     "data": {
      "text/plain": [
       "{'question': \"What's the price of bitcoin today(10th june 2025)\",\n",
       " 'usa': False,\n",
       " 'chat': False,\n",
       " 'web': True,\n",
       " 'response': 'As of June 10, 2025, the price of Bitcoin is approximately USD 109,227.63.',\n",
       " 'is_validated': True}"
      ]
     },
     "execution_count": 40,
     "metadata": {},
     "output_type": "execute_result"
    }
   ],
   "source": [
    "graph.invoke({\"question\":\"What's the price of bitcoin today(10th june 2025)\"})\n"
   ]
  },
  {
   "cell_type": "code",
   "execution_count": null,
   "id": "3641b44b",
   "metadata": {},
   "outputs": [
    {
     "name": "stdout",
     "output_type": "stream",
     "text": [
      "Router Decision: RAG: False Web: False Chat: True\n",
      "\n",
      "----- STARTING Chat NODE -----\n",
      "\n",
      "----- STARTING VALIDATION NODE -----\n",
      "Question: Hello? \n",
      " Answer: Hello! How can I assist you today?\n",
      "Validation Results: Is Validated: True Feedback: The answer is a polite and relevant response to a greeting question.\n",
      "\n",
      "----- STARTING OUTPUT FINAL ANSWER NODE -----\n"
     ]
    },
    {
     "data": {
      "text/plain": [
       "{'question': 'Hello?',\n",
       " 'usa': False,\n",
       " 'chat': True,\n",
       " 'web': False,\n",
       " 'response': 'Hello! How can I assist you today?',\n",
       " 'is_validated': True}"
      ]
     },
     "execution_count": 42,
     "metadata": {},
     "output_type": "execute_result"
    }
   ],
   "source": [
    "graph.invoke({\"question\":\"Hello?\"})\n"
   ]
  },
  {
   "cell_type": "code",
   "execution_count": 63,
   "id": "41ff68a1",
   "metadata": {},
   "outputs": [
    {
     "name": "stdout",
     "output_type": "stream",
     "text": [
      "Router Decision: RAG: False Web: False Chat: True\n",
      "\n",
      "----- STARTING Chat NODE -----\n",
      "\n",
      "----- STARTING VALIDATION NODE -----\n",
      "Question: how to create an unicorn? \n",
      " Answer: Creating a real unicorn, as depicted in myths and legends, is not possible since unicorns are mythical creatures. However, if you're interested in creating a unicorn-themed craft or decoration, here are some fun ideas:\n",
      "\n",
      "1. **Unicorn Crafting with Paper or Clay:**\n",
      "   - Use white, pink, and rainbow-colored paper or clay to make a unicorn figure.\n",
      "   - Add a glittery horn, mane, and tail for a magical touch.\n",
      "\n",
      "2. **Decorating a Unicorn Theme Party:**\n",
      "   - Decorate with unicorn balloons, banners, and plush toys.\n",
      "   - Use pastel and rainbow colors for a whimsical atmosphere.\n",
      "\n",
      "3. **DIY Unicorn Horn:**\n",
      "   - Make a horn using rolled paper or foam cone, decorate with glitter, and attach it to a headband for a costume piece.\n",
      "\n",
      "If you're interested in storytelling or artistic projects, you could also write a story about creating your own magical unicorn. Let me know if you'd like more ideas or guidance!\n",
      "Validation Results: Is Validated: True Feedback: \n",
      "\n",
      "----- STARTING OUTPUT FINAL ANSWER NODE -----\n"
     ]
    },
    {
     "data": {
      "text/plain": [
       "{'question': 'how to create an unicorn?',\n",
       " 'usa': False,\n",
       " 'chat': True,\n",
       " 'web': False,\n",
       " 'response': \"Creating a real unicorn, as depicted in myths and legends, is not possible since unicorns are mythical creatures. However, if you're interested in creating a unicorn-themed craft or decoration, here are some fun ideas:\\n\\n1. **Unicorn Crafting with Paper or Clay:**\\n   - Use white, pink, and rainbow-colored paper or clay to make a unicorn figure.\\n   - Add a glittery horn, mane, and tail for a magical touch.\\n\\n2. **Decorating a Unicorn Theme Party:**\\n   - Decorate with unicorn balloons, banners, and plush toys.\\n   - Use pastel and rainbow colors for a whimsical atmosphere.\\n\\n3. **DIY Unicorn Horn:**\\n   - Make a horn using rolled paper or foam cone, decorate with glitter, and attach it to a headband for a costume piece.\\n\\nIf you're interested in storytelling or artistic projects, you could also write a story about creating your own magical unicorn. Let me know if you'd like more ideas or guidance!\",\n",
       " 'is_validated': True}"
      ]
     },
     "execution_count": 63,
     "metadata": {},
     "output_type": "execute_result"
    }
   ],
   "source": [
    "graph.invoke({\"question\":\"how to create an unicorn?\"})\n"
   ]
  }
 ],
 "metadata": {
  "kernelspec": {
   "display_name": "krish_langgraph",
   "language": "python",
   "name": "python3"
  },
  "language_info": {
   "codemirror_mode": {
    "name": "ipython",
    "version": 3
   },
   "file_extension": ".py",
   "mimetype": "text/x-python",
   "name": "python",
   "nbconvert_exporter": "python",
   "pygments_lexer": "ipython3",
   "version": "3.11.0"
  }
 },
 "nbformat": 4,
 "nbformat_minor": 5
}
